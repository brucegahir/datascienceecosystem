{
 "cells": [
  {
   "cell_type": "markdown",
   "id": "2d73dce0-f9ac-4f37-af4a-51caa1395683",
   "metadata": {},
   "source": [
    " # Data Science Tools and Ecosystem"
   ]
  },
  {
   "cell_type": "markdown",
   "id": "77ec46fd-00ac-43fd-b130-abe3c39581db",
   "metadata": {},
   "source": [
    "In this notebook, Data Science Tools and Ecosystem are summarized."
   ]
  },
  {
   "cell_type": "markdown",
   "id": "d6858eb1-cc62-41f5-92a4-bc24d78ddbc9",
   "metadata": {},
   "source": [
    "Some of the popular languages that Data Scientists use are:"
   ]
  },
  {
   "cell_type": "markdown",
   "id": "02945269-e91f-4263-b10a-30cddff83a9c",
   "metadata": {},
   "source": [
    "Python"
   ]
  },
  {
   "cell_type": "markdown",
   "id": "2c399189-6447-45d9-b60d-c64329a0355c",
   "metadata": {},
   "source": [
    "R"
   ]
  },
  {
   "cell_type": "markdown",
   "id": "d492c3c0-d75e-4c0a-8579-e372ceacfd99",
   "metadata": {},
   "source": [
    "Some of the commonly used libraries used by Data Scientists include:\n",
    "1. Matplotlib – Data visualization through charts and plots\n",
    "2. NumPy – Numerical computing with powerful array structures.\n",
    "3. Pandas – Data manipulation and analysis.\n",
    "4. Scikit-learn – Machine learning algorithms and models.\n",
    "5. TensorFlow – Deep learning framework developed by Google."
   ]
  },
  {
   "cell_type": "markdown",
   "id": "837fc7e6-1d5a-4b33-a9cc-b3cf0640ec7f",
   "metadata": {},
   "source": [
    "| Data Science Tools |\n",
    "|--------------------|\n",
    "| Jupyter Notebook  |\n",
    "| RStudio           |\n",
    "| Apache Zeppelin   |"
   ]
  },
  {
   "cell_type": "markdown",
   "id": "880636fd-aa32-4ad0-876c-880363ed7de4",
   "metadata": {},
   "source": [
    "### Below are a few examples of evaluating arithmetic expressions in Python."
   ]
  },
  {
   "cell_type": "code",
   "execution_count": 12,
   "id": "3445deb6-9396-4ba8-938b-1b9736beb69f",
   "metadata": {},
   "outputs": [
    {
     "name": "stdout",
     "output_type": "stream",
     "text": [
      "17\n"
     ]
    }
   ],
   "source": [
    "# This a simple arithmetic expression to mutiply then add integers\n",
    "result = (3 * 4) + 5\n",
    "print(result)"
   ]
  },
  {
   "cell_type": "code",
   "execution_count": 14,
   "id": "e0888e12-ec52-4508-ba5d-a9f84cb82e27",
   "metadata": {},
   "outputs": [
    {
     "name": "stdout",
     "output_type": "stream",
     "text": [
      "3.3333333333333335\n"
     ]
    }
   ],
   "source": [
    "# This will convert 200 minutes to hours by dividing by 60\n",
    "minutes = 200\n",
    "hours = minutes / 60\n",
    "print(hours) "
   ]
  },
  {
   "cell_type": "markdown",
   "id": "2ee3985d-2e23-4494-ae66-a88ab08502a2",
   "metadata": {},
   "source": [
    "# Data Science Tools and Ecosystem"
   ]
  },
  {
   "cell_type": "markdown",
   "id": "ef46a85b-4963-40b4-8655-e810555e79ad",
   "metadata": {},
   "source": [
    "## Objectives"
   ]
  },
  {
   "cell_type": "markdown",
   "id": "6756dbec-145d-4834-b814-253f7a476981",
   "metadata": {},
   "source": [
    "- Most popular languages that data scientists use\n",
    "- Examples of arithmetic expressions and formulae\n",
    "- Conversions using a formula from one variable to another"
   ]
  },
  {
   "cell_type": "markdown",
   "id": "c98f497b-0b53-437a-b8df-9a7e1e8deaa2",
   "metadata": {},
   "source": [
    "## Author\n",
    "Dr.Bruce Gahir"
   ]
  },
  {
   "cell_type": "code",
   "execution_count": null,
   "id": "293d1c1b-5db9-46da-9a06-02382b4ac21c",
   "metadata": {},
   "outputs": [],
   "source": []
  }
 ],
 "metadata": {
  "kernelspec": {
   "display_name": "Python [conda env:base] *",
   "language": "python",
   "name": "conda-base-py"
  },
  "language_info": {
   "codemirror_mode": {
    "name": "ipython",
    "version": 3
   },
   "file_extension": ".py",
   "mimetype": "text/x-python",
   "name": "python",
   "nbconvert_exporter": "python",
   "pygments_lexer": "ipython3",
   "version": "3.12.7"
  }
 },
 "nbformat": 4,
 "nbformat_minor": 5
}
